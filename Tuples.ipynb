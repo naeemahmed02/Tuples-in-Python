{
 "cells": [
  {
   "cell_type": "markdown",
   "id": "264d7d81",
   "metadata": {},
   "source": [
    "## What are tuples?"
   ]
  },
  {
   "cell_type": "markdown",
   "id": "9142a96a",
   "metadata": {},
   "source": [
    "Tuple is collection of immutable heterogeneous python objects."
   ]
  },
  {
   "cell_type": "code",
   "execution_count": 2,
   "id": "0cf40081",
   "metadata": {},
   "outputs": [],
   "source": [
    "x = (1,89, \"A\", 'Hey', 2.4)"
   ]
  },
  {
   "cell_type": "code",
   "execution_count": 3,
   "id": "f5dbaeea",
   "metadata": {},
   "outputs": [
    {
     "name": "stdout",
     "output_type": "stream",
     "text": [
      "(1, 2, 3, 4, 5, 6)\n"
     ]
    }
   ],
   "source": [
    "x1 = (1,2,3,4,5,6)\n",
    "print(x1)"
   ]
  },
  {
   "cell_type": "markdown",
   "id": "adaa3d3d",
   "metadata": {},
   "source": [
    "## Creating Tuples, Basic Syntax"
   ]
  },
  {
   "cell_type": "code",
   "execution_count": 4,
   "id": "bd8e712c",
   "metadata": {},
   "outputs": [
    {
     "name": "stdout",
     "output_type": "stream",
     "text": [
      "<class 'tuple'>\n"
     ]
    }
   ],
   "source": [
    "emp = ()\n",
    "print(type(emp))"
   ]
  },
  {
   "cell_type": "code",
   "execution_count": 5,
   "id": "20c4a71e",
   "metadata": {},
   "outputs": [
    {
     "name": "stdout",
     "output_type": "stream",
     "text": [
      "()\n"
     ]
    }
   ],
   "source": [
    "print(emp)"
   ]
  },
  {
   "cell_type": "code",
   "execution_count": 7,
   "id": "feb2bba0",
   "metadata": {},
   "outputs": [
    {
     "name": "stdout",
     "output_type": "stream",
     "text": [
      "<class 'tuple'>\n"
     ]
    }
   ],
   "source": [
    "# city = \"Hyderabad\",\n",
    "city = \"Hyderabad\",\n",
    "print(type(city))"
   ]
  },
  {
   "cell_type": "code",
   "execution_count": 7,
   "id": "9b6df576",
   "metadata": {},
   "outputs": [
    {
     "name": "stdout",
     "output_type": "stream",
     "text": [
      "<class 'tuple'>\n"
     ]
    }
   ],
   "source": [
    "print(type(city))"
   ]
  },
  {
   "cell_type": "code",
   "execution_count": 8,
   "id": "aa02d949",
   "metadata": {},
   "outputs": [
    {
     "name": "stdout",
     "output_type": "stream",
     "text": [
      "<class 'tuple'>\n"
     ]
    }
   ],
   "source": [
    "city = (\"Hyderabad\",)\n",
    "print(type(city))"
   ]
  },
  {
   "cell_type": "code",
   "execution_count": 10,
   "id": "f2bb931b",
   "metadata": {},
   "outputs": [
    {
     "name": "stdout",
     "output_type": "stream",
     "text": [
      "<class 'tuple'>\n"
     ]
    }
   ],
   "source": [
    "city = (\"Hyderabad\",)\n",
    "print(type(city))"
   ]
  },
  {
   "cell_type": "code",
   "execution_count": 12,
   "id": "4ca4c703",
   "metadata": {},
   "outputs": [
    {
     "name": "stdout",
     "output_type": "stream",
     "text": [
      "('Karachi', 'Lahore', 'Hyderabad', 'Multan')\n"
     ]
    }
   ],
   "source": [
    "major_cities = (\"Karachi\", \"Lahore\", \"Hyderabad\", \"Multan\")\n",
    "print(major_cities)"
   ]
  },
  {
   "cell_type": "code",
   "execution_count": 13,
   "id": "8e2a607a",
   "metadata": {},
   "outputs": [
    {
     "name": "stdout",
     "output_type": "stream",
     "text": [
      "<class 'tuple'>\n"
     ]
    }
   ],
   "source": [
    "print(type(major_cities))"
   ]
  },
  {
   "cell_type": "code",
   "execution_count": 14,
   "id": "6c205464",
   "metadata": {},
   "outputs": [
    {
     "name": "stdout",
     "output_type": "stream",
     "text": [
      "('Karachi', 'Lahore', 'Hyderabad', 'Multan')\n"
     ]
    }
   ],
   "source": [
    "major_cities = \"Karachi\", \"Lahore\", \"Hyderabad\", \"Multan\"\n",
    "print(major_cities)"
   ]
  },
  {
   "cell_type": "code",
   "execution_count": 15,
   "id": "7e70fe6f",
   "metadata": {},
   "outputs": [
    {
     "name": "stdout",
     "output_type": "stream",
     "text": [
      "<class 'tuple'>\n"
     ]
    }
   ],
   "source": [
    "print(type(major_cities))"
   ]
  },
  {
   "cell_type": "markdown",
   "id": "6e692497",
   "metadata": {},
   "source": [
    "## Difference  b/w list and tuple"
   ]
  },
  {
   "cell_type": "code",
   "execution_count": 20,
   "id": "9a07d8f5",
   "metadata": {},
   "outputs": [],
   "source": [
    "list1 = [1,2,3,4,5]\n",
    "tuple1 = (1,2,3,4,5)\n",
    "list1.append(6)"
   ]
  },
  {
   "cell_type": "code",
   "execution_count": 21,
   "id": "78386421",
   "metadata": {},
   "outputs": [
    {
     "name": "stdout",
     "output_type": "stream",
     "text": [
      "[1, 2, 3, 4, 5, 6]\n"
     ]
    }
   ],
   "source": [
    "print(list1)"
   ]
  },
  {
   "cell_type": "code",
   "execution_count": 23,
   "id": "7790e49d",
   "metadata": {},
   "outputs": [],
   "source": [
    "# tuple1.append(6)"
   ]
  },
  {
   "cell_type": "markdown",
   "id": "2ba951f2",
   "metadata": {},
   "source": [
    "## Main Difference Between Lists and Tuples"
   ]
  },
  {
   "cell_type": "markdown",
   "id": "63333805",
   "metadata": {},
   "source": [
    "List is mutable whereas tuple is imutable"
   ]
  },
  {
   "cell_type": "markdown",
   "id": "e2dd327d",
   "metadata": {},
   "source": [
    "List use square brackets and tuple may or may not use the parenthesis"
   ]
  },
  {
   "cell_type": "markdown",
   "id": "96f1986c",
   "metadata": {},
   "source": [
    "## Accessing the tuple"
   ]
  },
  {
   "cell_type": "markdown",
   "id": "f300136f",
   "metadata": {},
   "source": [
    "Like list tuple uses the same syntax"
   ]
  },
  {
   "cell_type": "code",
   "execution_count": 26,
   "id": "56a49efa",
   "metadata": {},
   "outputs": [
    {
     "data": {
      "text/plain": [
       "3"
      ]
     },
     "execution_count": 26,
     "metadata": {},
     "output_type": "execute_result"
    }
   ],
   "source": [
    "tuple1[2]"
   ]
  },
  {
   "cell_type": "code",
   "execution_count": 27,
   "id": "80d754c4",
   "metadata": {},
   "outputs": [
    {
     "data": {
      "text/plain": [
       "5"
      ]
     },
     "execution_count": 27,
     "metadata": {},
     "output_type": "execute_result"
    }
   ],
   "source": [
    "tuple1[-1]"
   ]
  },
  {
   "cell_type": "markdown",
   "id": "17fb336f",
   "metadata": {},
   "source": [
    "## Conctenation"
   ]
  },
  {
   "cell_type": "code",
   "execution_count": 28,
   "id": "157a6878",
   "metadata": {},
   "outputs": [
    {
     "name": "stdout",
     "output_type": "stream",
     "text": [
      "('Naeem', 'Faheem', 'Mujeeb', 'Najeebullah', 'Abubakar') (23, 43, 64, 75, 75)\n"
     ]
    }
   ],
   "source": [
    "students = (\"Naeem\", \"Faheem\", \"Mujeeb\", \"Najeebullah\", \"Abubakar\")\n",
    "marks = (23,43,64,75,75)\n",
    "print(students, marks)"
   ]
  },
  {
   "cell_type": "code",
   "execution_count": 29,
   "id": "810de09b",
   "metadata": {},
   "outputs": [],
   "source": [
    "concate = students + marks"
   ]
  },
  {
   "cell_type": "code",
   "execution_count": 30,
   "id": "c155da6b",
   "metadata": {},
   "outputs": [
    {
     "name": "stdout",
     "output_type": "stream",
     "text": [
      "('Naeem', 'Faheem', 'Mujeeb', 'Najeebullah', 'Abubakar', 23, 43, 64, 75, 75)\n"
     ]
    }
   ],
   "source": [
    "print(concate)"
   ]
  },
  {
   "cell_type": "markdown",
   "id": "51b8473f",
   "metadata": {},
   "source": [
    "## Nesting (Tuple within Tuple)"
   ]
  },
  {
   "cell_type": "code",
   "execution_count": 33,
   "id": "903763e0",
   "metadata": {},
   "outputs": [
    {
     "name": "stdout",
     "output_type": "stream",
     "text": [
      "(('Naeem', 'Faheem', 'Mujeeb', 'Najeebullah', 'Abubakar'), (23, 43, 64, 75, 75))\n"
     ]
    }
   ],
   "source": [
    "nest = (students, marks)\n",
    "print(nest)"
   ]
  },
  {
   "cell_type": "markdown",
   "id": "d433a9c0",
   "metadata": {},
   "source": [
    "## Repetition"
   ]
  },
  {
   "cell_type": "code",
   "execution_count": 40,
   "id": "af546aca",
   "metadata": {},
   "outputs": [
    {
     "name": "stdout",
     "output_type": "stream",
     "text": [
      "('python', 'python', 'python', 'python', 'python')\n"
     ]
    }
   ],
   "source": [
    "rep = (\"python\",)*5\n",
    "print(rep)"
   ]
  },
  {
   "cell_type": "code",
   "execution_count": 43,
   "id": "34d02291",
   "metadata": {},
   "outputs": [],
   "source": [
    "rep = \"python\","
   ]
  },
  {
   "cell_type": "code",
   "execution_count": 44,
   "id": "099a68b5",
   "metadata": {},
   "outputs": [
    {
     "name": "stdout",
     "output_type": "stream",
     "text": [
      "('python', 'python', 'python', 'python', 'python', 'python', 'python', 'python', 'python', 'python')\n"
     ]
    }
   ],
   "source": [
    "print(rep*10)"
   ]
  },
  {
   "cell_type": "markdown",
   "id": "990c0a4c",
   "metadata": {},
   "source": [
    "## Slicing"
   ]
  },
  {
   "cell_type": "code",
   "execution_count": 46,
   "id": "32c9f938",
   "metadata": {},
   "outputs": [
    {
     "name": "stdout",
     "output_type": "stream",
     "text": [
      "(23, 43, 64, 75, 75)\n"
     ]
    }
   ],
   "source": [
    "print(marks)"
   ]
  },
  {
   "cell_type": "code",
   "execution_count": 47,
   "id": "a24c2727",
   "metadata": {},
   "outputs": [
    {
     "data": {
      "text/plain": [
       "(43, 64, 75, 75)"
      ]
     },
     "execution_count": 47,
     "metadata": {},
     "output_type": "execute_result"
    }
   ],
   "source": [
    "marks[1:]"
   ]
  },
  {
   "cell_type": "code",
   "execution_count": 48,
   "id": "4dc80347",
   "metadata": {},
   "outputs": [
    {
     "data": {
      "text/plain": [
       "(23, 43, 64, 75)"
      ]
     },
     "execution_count": 48,
     "metadata": {},
     "output_type": "execute_result"
    }
   ],
   "source": [
    "marks[:4]"
   ]
  },
  {
   "cell_type": "code",
   "execution_count": 49,
   "id": "5fa5bb25",
   "metadata": {},
   "outputs": [
    {
     "data": {
      "text/plain": [
       "75"
      ]
     },
     "execution_count": 49,
     "metadata": {},
     "output_type": "execute_result"
    }
   ],
   "source": [
    "marks[-1]"
   ]
  },
  {
   "cell_type": "code",
   "execution_count": 50,
   "id": "d1065f3f",
   "metadata": {},
   "outputs": [
    {
     "data": {
      "text/plain": [
       "(75, 75, 64, 43, 23)"
      ]
     },
     "execution_count": 50,
     "metadata": {},
     "output_type": "execute_result"
    }
   ],
   "source": [
    "marks[::-1]"
   ]
  },
  {
   "cell_type": "markdown",
   "id": "0888dcf2",
   "metadata": {},
   "source": [
    "## Unpacking"
   ]
  },
  {
   "cell_type": "code",
   "execution_count": 51,
   "id": "8c473e6e",
   "metadata": {},
   "outputs": [
    {
     "data": {
      "text/plain": [
       "('G', 'e', 'x', 't', 'o', 'n')"
      ]
     },
     "execution_count": 51,
     "metadata": {},
     "output_type": "execute_result"
    }
   ],
   "source": [
    "gext = \"Gexton\"\n",
    "tuple(gext)"
   ]
  },
  {
   "cell_type": "code",
   "execution_count": 52,
   "id": "89f34282",
   "metadata": {},
   "outputs": [
    {
     "name": "stdout",
     "output_type": "stream",
     "text": [
      "('Naeem', 'Faheem', 'Mujeeb', 'Najeebullah', 'Abubakar')\n",
      "(23, 43, 64, 75, 75)\n"
     ]
    }
   ],
   "source": [
    "print(students)\n",
    "print(marks)"
   ]
  },
  {
   "cell_type": "code",
   "execution_count": 53,
   "id": "78583677",
   "metadata": {},
   "outputs": [],
   "source": [
    "Naeem, Faheem, Mujeeb, Najeebullah, Abubakar = marks"
   ]
  },
  {
   "cell_type": "code",
   "execution_count": 54,
   "id": "15a0d48c",
   "metadata": {},
   "outputs": [
    {
     "name": "stdout",
     "output_type": "stream",
     "text": [
      "23 43 64 75 75\n"
     ]
    }
   ],
   "source": [
    "print(Naeem, Faheem, Mujeeb, Najeebullah, Abubakar)"
   ]
  },
  {
   "cell_type": "code",
   "execution_count": 57,
   "id": "c742d08e",
   "metadata": {},
   "outputs": [],
   "source": [
    "# Naeem, *faheem, Najeebullah = marks"
   ]
  },
  {
   "cell_type": "code",
   "execution_count": 58,
   "id": "a4d5d3a9",
   "metadata": {},
   "outputs": [],
   "source": [
    "# print(Naeem, Faheem, Mujeeb, Najeebullah, Abubakar)"
   ]
  },
  {
   "cell_type": "markdown",
   "id": "b2779ea6",
   "metadata": {},
   "source": [
    "## Deleting a Tuple"
   ]
  },
  {
   "cell_type": "code",
   "execution_count": 59,
   "id": "31825862",
   "metadata": {},
   "outputs": [
    {
     "name": "stdout",
     "output_type": "stream",
     "text": [
      "(1, 2, 3, 4)\n"
     ]
    }
   ],
   "source": [
    "tuple2 = (1,2,3,4)\n",
    "print(tuple2)"
   ]
  },
  {
   "cell_type": "code",
   "execution_count": 60,
   "id": "425a29c0",
   "metadata": {},
   "outputs": [],
   "source": [
    "del tuple2"
   ]
  },
  {
   "cell_type": "code",
   "execution_count": 61,
   "id": "b793e982",
   "metadata": {},
   "outputs": [
    {
     "ename": "NameError",
     "evalue": "name 'tuple2' is not defined",
     "output_type": "error",
     "traceback": [
      "\u001b[1;31m---------------------------------------------------------------------------\u001b[0m",
      "\u001b[1;31mNameError\u001b[0m                                 Traceback (most recent call last)",
      "Cell \u001b[1;32mIn[61], line 1\u001b[0m\n\u001b[1;32m----> 1\u001b[0m \u001b[38;5;28mprint\u001b[39m(\u001b[43mtuple2\u001b[49m)\n",
      "\u001b[1;31mNameError\u001b[0m: name 'tuple2' is not defined"
     ]
    }
   ],
   "source": [
    "# In the above cell we have deleted the tuple2 so tuple2 is nomore exits.\n",
    "print(tuple2)"
   ]
  },
  {
   "cell_type": "markdown",
   "id": "8b8a475f",
   "metadata": {},
   "source": [
    "## Built in function"
   ]
  },
  {
   "cell_type": "code",
   "execution_count": 62,
   "id": "7ad0e710",
   "metadata": {},
   "outputs": [],
   "source": [
    "num2 = (1,2,3,4,5,2,3,4,5,5,4,3,4,6,7,6,7,6)"
   ]
  },
  {
   "cell_type": "code",
   "execution_count": 63,
   "id": "c26e2223",
   "metadata": {},
   "outputs": [
    {
     "data": {
      "text/plain": [
       "2"
      ]
     },
     "execution_count": 63,
     "metadata": {},
     "output_type": "execute_result"
    }
   ],
   "source": [
    "num2.count(2)"
   ]
  },
  {
   "cell_type": "code",
   "execution_count": 64,
   "id": "4725a961",
   "metadata": {},
   "outputs": [
    {
     "data": {
      "text/plain": [
       "77"
      ]
     },
     "execution_count": 64,
     "metadata": {},
     "output_type": "execute_result"
    }
   ],
   "source": [
    "sum(num2)"
   ]
  },
  {
   "cell_type": "code",
   "execution_count": 65,
   "id": "7084aade",
   "metadata": {},
   "outputs": [
    {
     "data": {
      "text/plain": [
       "18"
      ]
     },
     "execution_count": 65,
     "metadata": {},
     "output_type": "execute_result"
    }
   ],
   "source": [
    "len(num2)"
   ]
  },
  {
   "cell_type": "code",
   "execution_count": 66,
   "id": "f2360fa5",
   "metadata": {},
   "outputs": [
    {
     "data": {
      "text/plain": [
       "7"
      ]
     },
     "execution_count": 66,
     "metadata": {},
     "output_type": "execute_result"
    }
   ],
   "source": [
    "max(num2)"
   ]
  },
  {
   "cell_type": "code",
   "execution_count": 67,
   "id": "1aaf02e1",
   "metadata": {},
   "outputs": [
    {
     "data": {
      "text/plain": [
       "1"
      ]
     },
     "execution_count": 67,
     "metadata": {},
     "output_type": "execute_result"
    }
   ],
   "source": [
    "min(num2)"
   ]
  },
  {
   "cell_type": "markdown",
   "id": "0debfc88",
   "metadata": {},
   "source": [
    "## Converting List to Tuple"
   ]
  },
  {
   "cell_type": "code",
   "execution_count": 69,
   "id": "b9f7db0b",
   "metadata": {},
   "outputs": [
    {
     "name": "stdout",
     "output_type": "stream",
     "text": [
      "<class 'list'>\n"
     ]
    }
   ],
   "source": [
    "lst = [1,2,3,4,5,6,7]\n",
    "print(type(lst))"
   ]
  },
  {
   "cell_type": "code",
   "execution_count": 71,
   "id": "aed9559d",
   "metadata": {},
   "outputs": [
    {
     "name": "stdout",
     "output_type": "stream",
     "text": [
      "<class 'tuple'>\n"
     ]
    }
   ],
   "source": [
    "tpl = tuple(lst)\n",
    "print(type(tpl))"
   ]
  },
  {
   "cell_type": "code",
   "execution_count": 72,
   "id": "b19eeb0b",
   "metadata": {},
   "outputs": [
    {
     "name": "stdout",
     "output_type": "stream",
     "text": [
      "(1, 2, 3, 4, 5, 6, 7)\n"
     ]
    }
   ],
   "source": [
    "print(tpl)"
   ]
  },
  {
   "cell_type": "markdown",
   "id": "3412a201",
   "metadata": {},
   "source": [
    "## Nesting Tuples in a List"
   ]
  },
  {
   "cell_type": "code",
   "execution_count": 105,
   "id": "f94bea64",
   "metadata": {},
   "outputs": [
    {
     "name": "stdout",
     "output_type": "stream",
     "text": [
      "[('a', 'b', 'c', 'd'), (1, 2, 3, 4)]\n"
     ]
    }
   ],
   "source": [
    "lst2 = [('a', 'b', 'c', 'd'), (1, 2, 3, 4)]\n",
    "print(lst2)"
   ]
  },
  {
   "cell_type": "code",
   "execution_count": 106,
   "id": "aff3ffeb",
   "metadata": {},
   "outputs": [
    {
     "name": "stdout",
     "output_type": "stream",
     "text": [
      "<class 'list'>\n"
     ]
    }
   ],
   "source": [
    "print(type(lst2))"
   ]
  },
  {
   "cell_type": "code",
   "execution_count": 107,
   "id": "df2ff483",
   "metadata": {},
   "outputs": [
    {
     "name": "stdout",
     "output_type": "stream",
     "text": [
      "[('a', 'b', 'c', 'd'), (1, 2, 3, 4), ('hello', 'hi', 'ok')]\n"
     ]
    }
   ],
   "source": [
    "lst2.append((\"hello\", \"hi\", \"ok\"))\n",
    "print(lst2)"
   ]
  },
  {
   "cell_type": "code",
   "execution_count": 108,
   "id": "691b669d",
   "metadata": {},
   "outputs": [
    {
     "name": "stdout",
     "output_type": "stream",
     "text": [
      "[('a', 'b', 'c', 'd'), ('hello', 'hi', 'ok')]\n"
     ]
    }
   ],
   "source": [
    "lst2.remove((1,2,3,4))\n",
    "print(lst2)"
   ]
  },
  {
   "cell_type": "markdown",
   "id": "25cee747",
   "metadata": {},
   "source": [
    "## Nesting Lists within Tuples"
   ]
  },
  {
   "cell_type": "code",
   "execution_count": 112,
   "id": "76cb956a",
   "metadata": {},
   "outputs": [
    {
     "name": "stdout",
     "output_type": "stream",
     "text": [
      "<class 'tuple'> (['a', 'b', 'c'], ['d', 'e', 'f'])\n"
     ]
    }
   ],
   "source": [
    "tp1 = (['a', 'b', 'c'], ['d','e', 'f'])\n",
    "print(type(tp1), tp1)"
   ]
  },
  {
   "cell_type": "code",
   "execution_count": 116,
   "id": "8dedd622",
   "metadata": {},
   "outputs": [
    {
     "name": "stdout",
     "output_type": "stream",
     "text": [
      "(['a', 'b', 'c', 'z'], ['d', 'e', 'f'])\n"
     ]
    }
   ],
   "source": [
    "tp1[0].append('z')\n",
    "print(tp1)"
   ]
  },
  {
   "cell_type": "code",
   "execution_count": 117,
   "id": "b567e709",
   "metadata": {},
   "outputs": [
    {
     "name": "stdout",
     "output_type": "stream",
     "text": [
      "(['a', 'b', 'c'], ['d', 'e', 'f'])\n"
     ]
    }
   ],
   "source": [
    "tp1[0].remove('z')\n",
    "print(tp1)"
   ]
  },
  {
   "cell_type": "code",
   "execution_count": 118,
   "id": "caff7e41",
   "metadata": {},
   "outputs": [
    {
     "ename": "AttributeError",
     "evalue": "'tuple' object has no attribute 'append'",
     "output_type": "error",
     "traceback": [
      "\u001b[1;31m---------------------------------------------------------------------------\u001b[0m",
      "\u001b[1;31mAttributeError\u001b[0m                            Traceback (most recent call last)",
      "Cell \u001b[1;32mIn[118], line 1\u001b[0m\n\u001b[1;32m----> 1\u001b[0m \u001b[43mtp1\u001b[49m\u001b[38;5;241;43m.\u001b[39;49m\u001b[43mappend\u001b[49m([\u001b[38;5;241m2\u001b[39m,\u001b[38;5;241m4\u001b[39m,\u001b[38;5;241m6\u001b[39m,\u001b[38;5;241m8\u001b[39m])\n",
      "\u001b[1;31mAttributeError\u001b[0m: 'tuple' object has no attribute 'append'"
     ]
    }
   ],
   "source": [
    "#We can not append or add new element to the tuple becaues tuple is imutable (It basically generate error)\n",
    "tp1.append([2,4,6,8])"
   ]
  },
  {
   "cell_type": "code",
   "execution_count": null,
   "id": "3edef301",
   "metadata": {},
   "outputs": [],
   "source": []
  }
 ],
 "metadata": {
  "kernelspec": {
   "display_name": "Python 3 (ipykernel)",
   "language": "python",
   "name": "python3"
  },
  "language_info": {
   "codemirror_mode": {
    "name": "ipython",
    "version": 3
   },
   "file_extension": ".py",
   "mimetype": "text/x-python",
   "name": "python",
   "nbconvert_exporter": "python",
   "pygments_lexer": "ipython3",
   "version": "3.11.3"
  },
  "toc": {
   "base_numbering": 1,
   "nav_menu": {},
   "number_sections": true,
   "sideBar": true,
   "skip_h1_title": false,
   "title_cell": "Table of Contents",
   "title_sidebar": "Contents",
   "toc_cell": false,
   "toc_position": {},
   "toc_section_display": true,
   "toc_window_display": false
  }
 },
 "nbformat": 4,
 "nbformat_minor": 5
}
